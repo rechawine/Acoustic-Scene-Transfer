{
  "nbformat": 4,
  "nbformat_minor": 0,
  "metadata": {
    "colab": {
      "provenance": [],
      "gpuType": "T4"
    },
    "kernelspec": {
      "name": "python3",
      "display_name": "Python 3"
    },
    "language_info": {
      "name": "python"
    },
    "accelerator": "GPU"
  },
  "cells": [
    {
      "cell_type": "code",
      "execution_count": null,
      "metadata": {
        "cellView": "form",
        "id": "fPJXsSrQPwlH"
      },
      "outputs": [],
      "source": [
        "#@markdown <h3> 🔧 Prepare and Setup Environment</h3>\n",
        "!git clone https://github.com/glory20h/VoiceLDM.git\n",
        "%cd VoiceLDM\n",
        "!pip install -r requirements.txt\n",
        "\n",
        "import torch\n",
        "import torchaudio\n",
        "from IPython.display import Audio\n",
        "from voiceldm import VoiceLDMPipeline\n",
        "\n",
        "if torch.cuda.is_available():\n",
        "    device = torch.device(\"cuda:0\")\n",
        "else:\n",
        "    device = torch.device(\"cpu\")\n",
        "\n",
        "pipe = VoiceLDMPipeline(device=device)"
      ]
    },
    {
      "cell_type": "markdown",
      "source": [
        "## 💡 Tips for Better Audio Generation\n",
        "\n",
        "### Dual Classifier-Free Guidance Matters!\n",
        "\n",
        "It's crucial to appropriately adjust the weights for dual classifier-free guidance. We find that this adjustment greatly influences the likelihood of obtaining satisfactory results. Here are some key tips:\n",
        "\n",
        "1. Some weight settings are more effective for different prompts. Experiment with the weights and find the ideal combination that suits the specific use case.\n",
        "\n",
        "2. Starting with 7 for both `desc_guidance_scale` and `cont_guidance_scale` is a good starting point.\n",
        "\n",
        "2. If you feel that the generated audio doesn't align well with the provided content prompt, try decreasing the `desc_guidance_scale` and increase the `cont_guidance_scale`.\n",
        "\n",
        "3. If you feel that the generated audio doesn't align well with the provided description prompt, try decreasing the `cont_guidance_scale` and increase the `desc_guidance_scale`."
      ],
      "metadata": {
        "id": "EyURZCHRYtJt"
      }
    },
    {
      "cell_type": "code",
      "source": [
        "desc_prompt = \"She is talking in a park.\"\n",
        "cont_prompt = \"Good morning! How are you feeling today?\"\n",
        "audio_prompt = None\n",
        "num_inference_steps = 50\n",
        "desc_guidance_scale = 7\n",
        "cont_guidance_scale = 7\n",
        "\n",
        "audio = pipe(\n",
        "    desc_prompt=desc_prompt,\n",
        "    cont_prompt=cont_prompt,\n",
        "    audio_prompt=audio_prompt,\n",
        "    num_inference_steps=num_inference_steps,\n",
        "    desc_guidance_scale=desc_guidance_scale,\n",
        "    cont_guidance_scale=cont_guidance_scale,\n",
        "    device=device,\n",
        ")\n",
        "\n",
        "Audio(data=audio, rate=16000)"
      ],
      "metadata": {
        "id": "6I89efAwUJjy"
      },
      "execution_count": null,
      "outputs": []
    },
    {
      "cell_type": "code",
      "source": [],
      "metadata": {
        "id": "KATejL_4U_bN"
      },
      "execution_count": null,
      "outputs": []
    }
  ]
}